{
 "cells": [
  {
   "cell_type": "code",
   "execution_count": 1,
   "metadata": {
    "collapsed": true,
    "ExecuteTime": {
     "end_time": "2024-01-12T07:09:54.217188600Z",
     "start_time": "2024-01-12T07:09:52.770653200Z"
    }
   },
   "outputs": [],
   "source": [
    "import pandas as pd"
   ]
  },
  {
   "cell_type": "markdown",
   "source": [
    "## Reading CSV"
   ],
   "metadata": {
    "collapsed": false
   }
  },
  {
   "cell_type": "code",
   "execution_count": 4,
   "outputs": [
    {
     "data": {
      "text/plain": "  tickers            eps  revenue price         people\n0   GOOGL          27.82       87   845     larry page\n1     WMT           4.61      484    65           n.a.\n2    MSFT             -1       85    64     bill gates\n3     RIL  not available       50  1023  mukesh ambani\n4    TATA            5.6       -1  n.a.     ratan tata",
      "text/html": "<div>\n<style scoped>\n    .dataframe tbody tr th:only-of-type {\n        vertical-align: middle;\n    }\n\n    .dataframe tbody tr th {\n        vertical-align: top;\n    }\n\n    .dataframe thead th {\n        text-align: right;\n    }\n</style>\n<table border=\"1\" class=\"dataframe\">\n  <thead>\n    <tr style=\"text-align: right;\">\n      <th></th>\n      <th>tickers</th>\n      <th>eps</th>\n      <th>revenue</th>\n      <th>price</th>\n      <th>people</th>\n    </tr>\n  </thead>\n  <tbody>\n    <tr>\n      <th>0</th>\n      <td>GOOGL</td>\n      <td>27.82</td>\n      <td>87</td>\n      <td>845</td>\n      <td>larry page</td>\n    </tr>\n    <tr>\n      <th>1</th>\n      <td>WMT</td>\n      <td>4.61</td>\n      <td>484</td>\n      <td>65</td>\n      <td>n.a.</td>\n    </tr>\n    <tr>\n      <th>2</th>\n      <td>MSFT</td>\n      <td>-1</td>\n      <td>85</td>\n      <td>64</td>\n      <td>bill gates</td>\n    </tr>\n    <tr>\n      <th>3</th>\n      <td>RIL</td>\n      <td>not available</td>\n      <td>50</td>\n      <td>1023</td>\n      <td>mukesh ambani</td>\n    </tr>\n    <tr>\n      <th>4</th>\n      <td>TATA</td>\n      <td>5.6</td>\n      <td>-1</td>\n      <td>n.a.</td>\n      <td>ratan tata</td>\n    </tr>\n  </tbody>\n</table>\n</div>"
     },
     "execution_count": 4,
     "metadata": {},
     "output_type": "execute_result"
    }
   ],
   "source": [
    "# Skipping extra headers\n",
    "df = pd.read_csv('stocks_Data.csv', skiprows=1)\n",
    "df"
   ],
   "metadata": {
    "collapsed": false,
    "ExecuteTime": {
     "end_time": "2024-01-12T07:19:22.656670300Z",
     "start_time": "2024-01-12T07:19:22.641624Z"
    }
   }
  },
  {
   "cell_type": "code",
   "execution_count": 7,
   "outputs": [
    {
     "data": {
      "text/plain": "  tickers            eps  revenue price         people\n0   GOOGL          27.82       87   845     larry page\n1     WMT           4.61      484    65           n.a.\n2    MSFT             -1       85    64     bill gates\n3     RIL  not available       50  1023  mukesh ambani\n4    TATA            5.6       -1  n.a.     ratan tata",
      "text/html": "<div>\n<style scoped>\n    .dataframe tbody tr th:only-of-type {\n        vertical-align: middle;\n    }\n\n    .dataframe tbody tr th {\n        vertical-align: top;\n    }\n\n    .dataframe thead th {\n        text-align: right;\n    }\n</style>\n<table border=\"1\" class=\"dataframe\">\n  <thead>\n    <tr style=\"text-align: right;\">\n      <th></th>\n      <th>tickers</th>\n      <th>eps</th>\n      <th>revenue</th>\n      <th>price</th>\n      <th>people</th>\n    </tr>\n  </thead>\n  <tbody>\n    <tr>\n      <th>0</th>\n      <td>GOOGL</td>\n      <td>27.82</td>\n      <td>87</td>\n      <td>845</td>\n      <td>larry page</td>\n    </tr>\n    <tr>\n      <th>1</th>\n      <td>WMT</td>\n      <td>4.61</td>\n      <td>484</td>\n      <td>65</td>\n      <td>n.a.</td>\n    </tr>\n    <tr>\n      <th>2</th>\n      <td>MSFT</td>\n      <td>-1</td>\n      <td>85</td>\n      <td>64</td>\n      <td>bill gates</td>\n    </tr>\n    <tr>\n      <th>3</th>\n      <td>RIL</td>\n      <td>not available</td>\n      <td>50</td>\n      <td>1023</td>\n      <td>mukesh ambani</td>\n    </tr>\n    <tr>\n      <th>4</th>\n      <td>TATA</td>\n      <td>5.6</td>\n      <td>-1</td>\n      <td>n.a.</td>\n      <td>ratan tata</td>\n    </tr>\n  </tbody>\n</table>\n</div>"
     },
     "execution_count": 7,
     "metadata": {},
     "output_type": "execute_result"
    }
   ],
   "source": [
    "# inserting headers\n",
    "\n",
    "df = pd.read_csv('stocks_Data.csv', header=None, names=['tickers', 'eps', 'revenue', 'price', 'people'])\n",
    "df"
   ],
   "metadata": {
    "collapsed": false,
    "ExecuteTime": {
     "end_time": "2024-01-12T07:22:22.468442Z",
     "start_time": "2024-01-12T07:22:22.301891400Z"
    }
   }
  },
  {
   "cell_type": "code",
   "execution_count": 8,
   "outputs": [
    {
     "data": {
      "text/plain": "  tickers    eps  revenue  price      people\n0   GOOGL  27.82       87    845  larry page\n1     WMT   4.61      484     65        n.a.\n2    MSFT  -1.00       85     64  bill gates",
      "text/html": "<div>\n<style scoped>\n    .dataframe tbody tr th:only-of-type {\n        vertical-align: middle;\n    }\n\n    .dataframe tbody tr th {\n        vertical-align: top;\n    }\n\n    .dataframe thead th {\n        text-align: right;\n    }\n</style>\n<table border=\"1\" class=\"dataframe\">\n  <thead>\n    <tr style=\"text-align: right;\">\n      <th></th>\n      <th>tickers</th>\n      <th>eps</th>\n      <th>revenue</th>\n      <th>price</th>\n      <th>people</th>\n    </tr>\n  </thead>\n  <tbody>\n    <tr>\n      <th>0</th>\n      <td>GOOGL</td>\n      <td>27.82</td>\n      <td>87</td>\n      <td>845</td>\n      <td>larry page</td>\n    </tr>\n    <tr>\n      <th>1</th>\n      <td>WMT</td>\n      <td>4.61</td>\n      <td>484</td>\n      <td>65</td>\n      <td>n.a.</td>\n    </tr>\n    <tr>\n      <th>2</th>\n      <td>MSFT</td>\n      <td>-1.00</td>\n      <td>85</td>\n      <td>64</td>\n      <td>bill gates</td>\n    </tr>\n  </tbody>\n</table>\n</div>"
     },
     "execution_count": 8,
     "metadata": {},
     "output_type": "execute_result"
    }
   ],
   "source": [
    "# deciding number of rows to read\n",
    "\n",
    "df = pd.read_csv('stocks_Data.csv', nrows = 3)\n",
    "df"
   ],
   "metadata": {
    "collapsed": false,
    "ExecuteTime": {
     "end_time": "2024-01-12T07:23:51.006377800Z",
     "start_time": "2024-01-12T07:23:50.991653400Z"
    }
   }
  },
  {
   "cell_type": "code",
   "execution_count": 14,
   "outputs": [
    {
     "data": {
      "text/plain": "  tickers    eps  revenue   price         people\n0   GOOGL  27.82     87.0   845.0     larry page\n1     WMT   4.61    484.0    65.0            NaN\n2    MSFT  -1.00     85.0    64.0     bill gates\n3     RIL    NaN     50.0  1023.0  mukesh ambani\n4    TATA   5.60      NaN     NaN     ratan tata",
      "text/html": "<div>\n<style scoped>\n    .dataframe tbody tr th:only-of-type {\n        vertical-align: middle;\n    }\n\n    .dataframe tbody tr th {\n        vertical-align: top;\n    }\n\n    .dataframe thead th {\n        text-align: right;\n    }\n</style>\n<table border=\"1\" class=\"dataframe\">\n  <thead>\n    <tr style=\"text-align: right;\">\n      <th></th>\n      <th>tickers</th>\n      <th>eps</th>\n      <th>revenue</th>\n      <th>price</th>\n      <th>people</th>\n    </tr>\n  </thead>\n  <tbody>\n    <tr>\n      <th>0</th>\n      <td>GOOGL</td>\n      <td>27.82</td>\n      <td>87.0</td>\n      <td>845.0</td>\n      <td>larry page</td>\n    </tr>\n    <tr>\n      <th>1</th>\n      <td>WMT</td>\n      <td>4.61</td>\n      <td>484.0</td>\n      <td>65.0</td>\n      <td>NaN</td>\n    </tr>\n    <tr>\n      <th>2</th>\n      <td>MSFT</td>\n      <td>-1.00</td>\n      <td>85.0</td>\n      <td>64.0</td>\n      <td>bill gates</td>\n    </tr>\n    <tr>\n      <th>3</th>\n      <td>RIL</td>\n      <td>NaN</td>\n      <td>50.0</td>\n      <td>1023.0</td>\n      <td>mukesh ambani</td>\n    </tr>\n    <tr>\n      <th>4</th>\n      <td>TATA</td>\n      <td>5.60</td>\n      <td>NaN</td>\n      <td>NaN</td>\n      <td>ratan tata</td>\n    </tr>\n  </tbody>\n</table>\n</div>"
     },
     "execution_count": 14,
     "metadata": {},
     "output_type": "execute_result"
    }
   ],
   "source": [
    "# Normalizing NA values with a common name\n",
    "\n",
    "df = pd.read_csv('stocks_Data.csv', na_values={\n",
    "    'eps': ['not available', 'n.a.'],\n",
    "    'revenue': ['not available', 'n.a.', -1],\n",
    "    'people': ['not available', 'n.a.'],\n",
    "    'price': ['not available', 'n.a.']\n",
    "})\n",
    "df"
   ],
   "metadata": {
    "collapsed": false,
    "ExecuteTime": {
     "end_time": "2024-01-12T07:43:36.115291200Z",
     "start_time": "2024-01-12T07:43:36.084526800Z"
    }
   }
  },
  {
   "cell_type": "markdown",
   "source": [
    "## Writing In CSV"
   ],
   "metadata": {
    "collapsed": false
   }
  },
  {
   "cell_type": "code",
   "execution_count": 16,
   "outputs": [],
   "source": [
    "df.to_csv('new.csv', index = False)"
   ],
   "metadata": {
    "collapsed": false,
    "ExecuteTime": {
     "end_time": "2024-01-12T07:45:57.873353200Z",
     "start_time": "2024-01-12T07:45:57.821298500Z"
    }
   }
  },
  {
   "cell_type": "code",
   "execution_count": 17,
   "outputs": [
    {
     "data": {
      "text/plain": "Index(['tickers', 'eps', 'revenue', 'price', 'people'], dtype='object')"
     },
     "execution_count": 17,
     "metadata": {},
     "output_type": "execute_result"
    }
   ],
   "source": [
    "df.columns"
   ],
   "metadata": {
    "collapsed": false,
    "ExecuteTime": {
     "end_time": "2024-01-12T07:46:53.765030400Z",
     "start_time": "2024-01-12T07:46:53.754814700Z"
    }
   }
  },
  {
   "cell_type": "code",
   "execution_count": 21,
   "outputs": [],
   "source": [
    "# Adding specific columns to csv file\n",
    "\n",
    "df.to_csv('new.csv', index = False, columns=['tickers', 'eps'])\n"
   ],
   "metadata": {
    "collapsed": false,
    "ExecuteTime": {
     "end_time": "2024-01-12T07:48:49.313028200Z",
     "start_time": "2024-01-12T07:48:49.296723400Z"
    }
   }
  },
  {
   "cell_type": "code",
   "execution_count": 23,
   "outputs": [],
   "source": [
    "# Without HEaders\n",
    "\n",
    "df.to_csv('new.csv',header = False)"
   ],
   "metadata": {
    "collapsed": false,
    "ExecuteTime": {
     "end_time": "2024-01-12T07:55:49.731815200Z",
     "start_time": "2024-01-12T07:55:49.714711500Z"
    }
   }
  },
  {
   "cell_type": "markdown",
   "source": [
    "## Reading Excel"
   ],
   "metadata": {
    "collapsed": false
   }
  },
  {
   "cell_type": "code",
   "execution_count": 26,
   "outputs": [
    {
     "data": {
      "text/plain": "  tickers            eps  revenue price         people\n0   GOOGL          27.82       87   845     larry page\n1     WMT           4.61      484    65           n.a.\n2    MSFT             -1       85    64     bill gates\n3     RIL  not available       50  1023  mukesh ambani\n4    TATA            5.6       -1  n.a.     ratan tata",
      "text/html": "<div>\n<style scoped>\n    .dataframe tbody tr th:only-of-type {\n        vertical-align: middle;\n    }\n\n    .dataframe tbody tr th {\n        vertical-align: top;\n    }\n\n    .dataframe thead th {\n        text-align: right;\n    }\n</style>\n<table border=\"1\" class=\"dataframe\">\n  <thead>\n    <tr style=\"text-align: right;\">\n      <th></th>\n      <th>tickers</th>\n      <th>eps</th>\n      <th>revenue</th>\n      <th>price</th>\n      <th>people</th>\n    </tr>\n  </thead>\n  <tbody>\n    <tr>\n      <th>0</th>\n      <td>GOOGL</td>\n      <td>27.82</td>\n      <td>87</td>\n      <td>845</td>\n      <td>larry page</td>\n    </tr>\n    <tr>\n      <th>1</th>\n      <td>WMT</td>\n      <td>4.61</td>\n      <td>484</td>\n      <td>65</td>\n      <td>n.a.</td>\n    </tr>\n    <tr>\n      <th>2</th>\n      <td>MSFT</td>\n      <td>-1</td>\n      <td>85</td>\n      <td>64</td>\n      <td>bill gates</td>\n    </tr>\n    <tr>\n      <th>3</th>\n      <td>RIL</td>\n      <td>not available</td>\n      <td>50</td>\n      <td>1023</td>\n      <td>mukesh ambani</td>\n    </tr>\n    <tr>\n      <th>4</th>\n      <td>TATA</td>\n      <td>5.6</td>\n      <td>-1</td>\n      <td>n.a.</td>\n      <td>ratan tata</td>\n    </tr>\n  </tbody>\n</table>\n</div>"
     },
     "execution_count": 26,
     "metadata": {},
     "output_type": "execute_result"
    }
   ],
   "source": [
    "df = pd.read_excel('stocks_Data.xlsx', 'stocks_Data')\n",
    "df"
   ],
   "metadata": {
    "collapsed": false,
    "ExecuteTime": {
     "end_time": "2024-01-12T07:59:15.076150600Z",
     "start_time": "2024-01-12T07:59:14.493470400Z"
    }
   }
  },
  {
   "cell_type": "code",
   "execution_count": 31,
   "outputs": [
    {
     "data": {
      "text/plain": "  tickers    eps  revenue   price         people\n0   GOOGL  27.82       87   845.0     larry page\n1     WMT   4.61      484    65.0     sam walton\n2    MSFT  -1.00       85    64.0     bill gates\n3     RIL    NaN       50  1023.0  mukesh ambani\n4    TATA   5.60       -1     NaN     ratan tata",
      "text/html": "<div>\n<style scoped>\n    .dataframe tbody tr th:only-of-type {\n        vertical-align: middle;\n    }\n\n    .dataframe tbody tr th {\n        vertical-align: top;\n    }\n\n    .dataframe thead th {\n        text-align: right;\n    }\n</style>\n<table border=\"1\" class=\"dataframe\">\n  <thead>\n    <tr style=\"text-align: right;\">\n      <th></th>\n      <th>tickers</th>\n      <th>eps</th>\n      <th>revenue</th>\n      <th>price</th>\n      <th>people</th>\n    </tr>\n  </thead>\n  <tbody>\n    <tr>\n      <th>0</th>\n      <td>GOOGL</td>\n      <td>27.82</td>\n      <td>87</td>\n      <td>845.0</td>\n      <td>larry page</td>\n    </tr>\n    <tr>\n      <th>1</th>\n      <td>WMT</td>\n      <td>4.61</td>\n      <td>484</td>\n      <td>65.0</td>\n      <td>sam walton</td>\n    </tr>\n    <tr>\n      <th>2</th>\n      <td>MSFT</td>\n      <td>-1.00</td>\n      <td>85</td>\n      <td>64.0</td>\n      <td>bill gates</td>\n    </tr>\n    <tr>\n      <th>3</th>\n      <td>RIL</td>\n      <td>NaN</td>\n      <td>50</td>\n      <td>1023.0</td>\n      <td>mukesh ambani</td>\n    </tr>\n    <tr>\n      <th>4</th>\n      <td>TATA</td>\n      <td>5.60</td>\n      <td>-1</td>\n      <td>NaN</td>\n      <td>ratan tata</td>\n    </tr>\n  </tbody>\n</table>\n</div>"
     },
     "execution_count": 31,
     "metadata": {},
     "output_type": "execute_result"
    }
   ],
   "source": [
    "# Converting NA values, cell by cell\n",
    "\n",
    "def convert_people_cell(cell):\n",
    "    if cell =='n.a.':\n",
    "        return 'sam walton'\n",
    "    return cell\n",
    "\n",
    "\n",
    "def convert_eps_Cell(cell):\n",
    "    if cell == 'not available':\n",
    "        return None\n",
    "    return cell\n",
    "\n",
    "\n",
    "def convert_price_Cell(cell):\n",
    "    if cell == 'n.a.':\n",
    "        return None\n",
    "    return cell\n",
    "\n",
    "df = pd.read_excel('stocks_Data.xlsx', 'stocks_Data', converters={\n",
    "    'people': convert_people_cell,\n",
    "    'eps': convert_eps_Cell,\n",
    "    'price': convert_price_Cell\n",
    "})\n",
    "df\n"
   ],
   "metadata": {
    "collapsed": false,
    "ExecuteTime": {
     "end_time": "2024-01-12T08:04:41.448718800Z",
     "start_time": "2024-01-12T08:04:41.403992600Z"
    }
   }
  },
  {
   "cell_type": "markdown",
   "source": [
    "## Writing in Excel"
   ],
   "metadata": {
    "collapsed": false
   }
  },
  {
   "cell_type": "code",
   "execution_count": 34,
   "outputs": [],
   "source": [
    "df.to_excel('new.xlsx', 'stock', index=False)"
   ],
   "metadata": {
    "collapsed": false,
    "ExecuteTime": {
     "end_time": "2024-01-12T08:07:12.858513700Z",
     "start_time": "2024-01-12T08:07:12.828531800Z"
    }
   }
  },
  {
   "cell_type": "code",
   "execution_count": 36,
   "outputs": [],
   "source": [
    "# Adding Extra cols and rows in start\n",
    "\n",
    "df.to_excel('new.xlsx', 'stock', index=False, startrow=1, startcol=2)\n"
   ],
   "metadata": {
    "collapsed": false,
    "ExecuteTime": {
     "end_time": "2024-01-12T08:08:34.630115500Z",
     "start_time": "2024-01-12T08:08:34.592965700Z"
    }
   }
  },
  {
   "cell_type": "code",
   "execution_count": 37,
   "outputs": [],
   "source": [
    "# Writing Two Dataframes into separate Excel file.\n",
    "\n",
    "df_stocks = pd.DataFrame({\n",
    "    'tickers': ['GOOGL', 'WMT', 'MSFT'],\n",
    "    'price': [845, 65, 64 ],\n",
    "    'pe': [30.37, 14.26, 30.97],\n",
    "    'eps': [27.82, 4.61, 2.12]\n",
    "})\n",
    "\n",
    "df_weather =  pd.DataFrame({\n",
    "    'day': ['1/1/2017','1/2/2017','1/3/2017'],\n",
    "    'temperature': [32,35,28],\n",
    "    'event': ['Rain', 'Sunny', 'Snow']\n",
    "})"
   ],
   "metadata": {
    "collapsed": false,
    "ExecuteTime": {
     "end_time": "2024-01-12T08:10:56.805197100Z",
     "start_time": "2024-01-12T08:10:56.789544Z"
    }
   }
  },
  {
   "cell_type": "code",
   "execution_count": 39,
   "outputs": [],
   "source": [
    "with pd.ExcelWriter('stocks_weather.xlsx') as writer:\n",
    "    df_stocks.to_excel(writer, sheet_name=\"stocks\", index=False) # sheet 1\n",
    "    df_weather.to_excel(writer, sheet_name=\"weather\", index = False) # sheet 2"
   ],
   "metadata": {
    "collapsed": false,
    "ExecuteTime": {
     "end_time": "2024-01-12T08:12:17.326511Z",
     "start_time": "2024-01-12T08:12:17.290352200Z"
    }
   }
  },
  {
   "cell_type": "code",
   "execution_count": null,
   "outputs": [],
   "source": [],
   "metadata": {
    "collapsed": false
   }
  }
 ],
 "metadata": {
  "kernelspec": {
   "display_name": "Python 3",
   "language": "python",
   "name": "python3"
  },
  "language_info": {
   "codemirror_mode": {
    "name": "ipython",
    "version": 2
   },
   "file_extension": ".py",
   "mimetype": "text/x-python",
   "name": "python",
   "nbconvert_exporter": "python",
   "pygments_lexer": "ipython2",
   "version": "2.7.6"
  }
 },
 "nbformat": 4,
 "nbformat_minor": 0
}
