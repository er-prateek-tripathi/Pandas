{
 "cells": [
  {
   "cell_type": "code",
   "execution_count": 1,
   "metadata": {
    "collapsed": true,
    "ExecuteTime": {
     "end_time": "2024-01-02T06:26:17.878853100Z",
     "start_time": "2024-01-02T06:26:16.053064500Z"
    }
   },
   "outputs": [],
   "source": [
    "import pandas as pd"
   ]
  },
  {
   "cell_type": "code",
   "execution_count": 2,
   "outputs": [],
   "source": [
    "df = pd.read_csv('nyc_weather.csv')"
   ],
   "metadata": {
    "collapsed": false,
    "ExecuteTime": {
     "end_time": "2024-01-02T06:26:30.811812Z",
     "start_time": "2024-01-02T06:26:30.790679200Z"
    }
   }
  },
  {
   "cell_type": "code",
   "execution_count": 4,
   "outputs": [
    {
     "data": {
      "text/plain": "          EST  Temperature  DewPoint  Humidity  Sea Level PressureIn  \\\n0    1/1/2016           38        23        52                 30.03   \n1    1/2/2016           36        18        46                 30.02   \n2    1/3/2016           40        21        47                 29.86   \n3    1/4/2016           25         9        44                 30.05   \n4    1/5/2016           20        -3        41                 30.57   \n5    1/6/2016           33         4        35                 30.50   \n6    1/7/2016           39        11        33                 30.28   \n7    1/8/2016           39        29        64                 30.20   \n8    1/9/2016           44        38        77                 30.16   \n9   1/10/2016           50        46        71                 29.59   \n10  1/11/2016           33         8        37                 29.92   \n11  1/12/2016           35        15        53                 29.85   \n12  1/13/2016           26         4        42                 29.94   \n13  1/14/2016           30        12        47                 29.95   \n14  1/15/2016           43        31        62                 29.82   \n15  1/16/2016           47        37        70                 29.52   \n16  1/17/2016           36        23        66                 29.78   \n17  1/18/2016           25         6        53                 29.83   \n18  1/19/2016           22         3        42                 30.03   \n19  1/20/2016           32        15        49                 30.13   \n20  1/21/2016           31        11        45                 30.15   \n21  1/22/2016           26         6        41                 30.21   \n22  1/23/2016           26        21        78                 29.77   \n23  1/24/2016           28        11        53                 29.92   \n24  1/25/2016           34        18        54                 30.25   \n25  1/26/2016           43        29        56                 30.03   \n26  1/27/2016           41        22        45                 30.03   \n27  1/28/2016           37        20        51                 29.90   \n28  1/29/2016           36        21        50                 29.58   \n29  1/30/2016           34        16        46                 30.01   \n30  1/31/2016           46        28        52                 29.90   \n\n    VisibilityMiles  WindSpeedMPH PrecipitationIn  CloudCover    Events  \\\n0                10           8.0               0           5       NaN   \n1                10           7.0               0           3       NaN   \n2                10           8.0               0           1       NaN   \n3                10           9.0               0           3       NaN   \n4                10           5.0               0           0       NaN   \n5                10           4.0               0           0       NaN   \n6                10           2.0               0           3       NaN   \n7                10           4.0               0           8       NaN   \n8                 9           8.0               T           8      Rain   \n9                 4           NaN             1.8           7      Rain   \n10               10           NaN               0           1       NaN   \n11               10           6.0               T           4       NaN   \n12               10          10.0               0           0       NaN   \n13               10           5.0               T           7       NaN   \n14                9           5.0               T           2       NaN   \n15                8           7.0            0.24           7      Rain   \n16                8           6.0            0.05           6  Fog-Snow   \n17                9          12.0               T           2      Snow   \n18               10          11.0               0           1       NaN   \n19               10           6.0               0           2       NaN   \n20               10           6.0               0           1       NaN   \n21                9           NaN            0.01           3      Snow   \n22                1          16.0            2.31           8  Fog-Snow   \n23                8           6.0               T           3      Snow   \n24               10           3.0               0           2       NaN   \n25               10           7.0               0           2       NaN   \n26               10           7.0               T           3      Rain   \n27               10           5.0               0           1       NaN   \n28               10           8.0               0           4       NaN   \n29               10           7.0               0           0       NaN   \n30               10           5.0               0           0       NaN   \n\n    WindDirDegrees  \n0              281  \n1              275  \n2              277  \n3              345  \n4              333  \n5              259  \n6              293  \n7               79  \n8               76  \n9              109  \n10             289  \n11             235  \n12             284  \n13             266  \n14             101  \n15             340  \n16             345  \n17             293  \n18             293  \n19             302  \n20             312  \n21              34  \n22              42  \n23             327  \n24             286  \n25             244  \n26             311  \n27             234  \n28             298  \n29             257  \n30             241  ",
      "text/html": "<div>\n<style scoped>\n    .dataframe tbody tr th:only-of-type {\n        vertical-align: middle;\n    }\n\n    .dataframe tbody tr th {\n        vertical-align: top;\n    }\n\n    .dataframe thead th {\n        text-align: right;\n    }\n</style>\n<table border=\"1\" class=\"dataframe\">\n  <thead>\n    <tr style=\"text-align: right;\">\n      <th></th>\n      <th>EST</th>\n      <th>Temperature</th>\n      <th>DewPoint</th>\n      <th>Humidity</th>\n      <th>Sea Level PressureIn</th>\n      <th>VisibilityMiles</th>\n      <th>WindSpeedMPH</th>\n      <th>PrecipitationIn</th>\n      <th>CloudCover</th>\n      <th>Events</th>\n      <th>WindDirDegrees</th>\n    </tr>\n  </thead>\n  <tbody>\n    <tr>\n      <th>0</th>\n      <td>1/1/2016</td>\n      <td>38</td>\n      <td>23</td>\n      <td>52</td>\n      <td>30.03</td>\n      <td>10</td>\n      <td>8.0</td>\n      <td>0</td>\n      <td>5</td>\n      <td>NaN</td>\n      <td>281</td>\n    </tr>\n    <tr>\n      <th>1</th>\n      <td>1/2/2016</td>\n      <td>36</td>\n      <td>18</td>\n      <td>46</td>\n      <td>30.02</td>\n      <td>10</td>\n      <td>7.0</td>\n      <td>0</td>\n      <td>3</td>\n      <td>NaN</td>\n      <td>275</td>\n    </tr>\n    <tr>\n      <th>2</th>\n      <td>1/3/2016</td>\n      <td>40</td>\n      <td>21</td>\n      <td>47</td>\n      <td>29.86</td>\n      <td>10</td>\n      <td>8.0</td>\n      <td>0</td>\n      <td>1</td>\n      <td>NaN</td>\n      <td>277</td>\n    </tr>\n    <tr>\n      <th>3</th>\n      <td>1/4/2016</td>\n      <td>25</td>\n      <td>9</td>\n      <td>44</td>\n      <td>30.05</td>\n      <td>10</td>\n      <td>9.0</td>\n      <td>0</td>\n      <td>3</td>\n      <td>NaN</td>\n      <td>345</td>\n    </tr>\n    <tr>\n      <th>4</th>\n      <td>1/5/2016</td>\n      <td>20</td>\n      <td>-3</td>\n      <td>41</td>\n      <td>30.57</td>\n      <td>10</td>\n      <td>5.0</td>\n      <td>0</td>\n      <td>0</td>\n      <td>NaN</td>\n      <td>333</td>\n    </tr>\n    <tr>\n      <th>5</th>\n      <td>1/6/2016</td>\n      <td>33</td>\n      <td>4</td>\n      <td>35</td>\n      <td>30.50</td>\n      <td>10</td>\n      <td>4.0</td>\n      <td>0</td>\n      <td>0</td>\n      <td>NaN</td>\n      <td>259</td>\n    </tr>\n    <tr>\n      <th>6</th>\n      <td>1/7/2016</td>\n      <td>39</td>\n      <td>11</td>\n      <td>33</td>\n      <td>30.28</td>\n      <td>10</td>\n      <td>2.0</td>\n      <td>0</td>\n      <td>3</td>\n      <td>NaN</td>\n      <td>293</td>\n    </tr>\n    <tr>\n      <th>7</th>\n      <td>1/8/2016</td>\n      <td>39</td>\n      <td>29</td>\n      <td>64</td>\n      <td>30.20</td>\n      <td>10</td>\n      <td>4.0</td>\n      <td>0</td>\n      <td>8</td>\n      <td>NaN</td>\n      <td>79</td>\n    </tr>\n    <tr>\n      <th>8</th>\n      <td>1/9/2016</td>\n      <td>44</td>\n      <td>38</td>\n      <td>77</td>\n      <td>30.16</td>\n      <td>9</td>\n      <td>8.0</td>\n      <td>T</td>\n      <td>8</td>\n      <td>Rain</td>\n      <td>76</td>\n    </tr>\n    <tr>\n      <th>9</th>\n      <td>1/10/2016</td>\n      <td>50</td>\n      <td>46</td>\n      <td>71</td>\n      <td>29.59</td>\n      <td>4</td>\n      <td>NaN</td>\n      <td>1.8</td>\n      <td>7</td>\n      <td>Rain</td>\n      <td>109</td>\n    </tr>\n    <tr>\n      <th>10</th>\n      <td>1/11/2016</td>\n      <td>33</td>\n      <td>8</td>\n      <td>37</td>\n      <td>29.92</td>\n      <td>10</td>\n      <td>NaN</td>\n      <td>0</td>\n      <td>1</td>\n      <td>NaN</td>\n      <td>289</td>\n    </tr>\n    <tr>\n      <th>11</th>\n      <td>1/12/2016</td>\n      <td>35</td>\n      <td>15</td>\n      <td>53</td>\n      <td>29.85</td>\n      <td>10</td>\n      <td>6.0</td>\n      <td>T</td>\n      <td>4</td>\n      <td>NaN</td>\n      <td>235</td>\n    </tr>\n    <tr>\n      <th>12</th>\n      <td>1/13/2016</td>\n      <td>26</td>\n      <td>4</td>\n      <td>42</td>\n      <td>29.94</td>\n      <td>10</td>\n      <td>10.0</td>\n      <td>0</td>\n      <td>0</td>\n      <td>NaN</td>\n      <td>284</td>\n    </tr>\n    <tr>\n      <th>13</th>\n      <td>1/14/2016</td>\n      <td>30</td>\n      <td>12</td>\n      <td>47</td>\n      <td>29.95</td>\n      <td>10</td>\n      <td>5.0</td>\n      <td>T</td>\n      <td>7</td>\n      <td>NaN</td>\n      <td>266</td>\n    </tr>\n    <tr>\n      <th>14</th>\n      <td>1/15/2016</td>\n      <td>43</td>\n      <td>31</td>\n      <td>62</td>\n      <td>29.82</td>\n      <td>9</td>\n      <td>5.0</td>\n      <td>T</td>\n      <td>2</td>\n      <td>NaN</td>\n      <td>101</td>\n    </tr>\n    <tr>\n      <th>15</th>\n      <td>1/16/2016</td>\n      <td>47</td>\n      <td>37</td>\n      <td>70</td>\n      <td>29.52</td>\n      <td>8</td>\n      <td>7.0</td>\n      <td>0.24</td>\n      <td>7</td>\n      <td>Rain</td>\n      <td>340</td>\n    </tr>\n    <tr>\n      <th>16</th>\n      <td>1/17/2016</td>\n      <td>36</td>\n      <td>23</td>\n      <td>66</td>\n      <td>29.78</td>\n      <td>8</td>\n      <td>6.0</td>\n      <td>0.05</td>\n      <td>6</td>\n      <td>Fog-Snow</td>\n      <td>345</td>\n    </tr>\n    <tr>\n      <th>17</th>\n      <td>1/18/2016</td>\n      <td>25</td>\n      <td>6</td>\n      <td>53</td>\n      <td>29.83</td>\n      <td>9</td>\n      <td>12.0</td>\n      <td>T</td>\n      <td>2</td>\n      <td>Snow</td>\n      <td>293</td>\n    </tr>\n    <tr>\n      <th>18</th>\n      <td>1/19/2016</td>\n      <td>22</td>\n      <td>3</td>\n      <td>42</td>\n      <td>30.03</td>\n      <td>10</td>\n      <td>11.0</td>\n      <td>0</td>\n      <td>1</td>\n      <td>NaN</td>\n      <td>293</td>\n    </tr>\n    <tr>\n      <th>19</th>\n      <td>1/20/2016</td>\n      <td>32</td>\n      <td>15</td>\n      <td>49</td>\n      <td>30.13</td>\n      <td>10</td>\n      <td>6.0</td>\n      <td>0</td>\n      <td>2</td>\n      <td>NaN</td>\n      <td>302</td>\n    </tr>\n    <tr>\n      <th>20</th>\n      <td>1/21/2016</td>\n      <td>31</td>\n      <td>11</td>\n      <td>45</td>\n      <td>30.15</td>\n      <td>10</td>\n      <td>6.0</td>\n      <td>0</td>\n      <td>1</td>\n      <td>NaN</td>\n      <td>312</td>\n    </tr>\n    <tr>\n      <th>21</th>\n      <td>1/22/2016</td>\n      <td>26</td>\n      <td>6</td>\n      <td>41</td>\n      <td>30.21</td>\n      <td>9</td>\n      <td>NaN</td>\n      <td>0.01</td>\n      <td>3</td>\n      <td>Snow</td>\n      <td>34</td>\n    </tr>\n    <tr>\n      <th>22</th>\n      <td>1/23/2016</td>\n      <td>26</td>\n      <td>21</td>\n      <td>78</td>\n      <td>29.77</td>\n      <td>1</td>\n      <td>16.0</td>\n      <td>2.31</td>\n      <td>8</td>\n      <td>Fog-Snow</td>\n      <td>42</td>\n    </tr>\n    <tr>\n      <th>23</th>\n      <td>1/24/2016</td>\n      <td>28</td>\n      <td>11</td>\n      <td>53</td>\n      <td>29.92</td>\n      <td>8</td>\n      <td>6.0</td>\n      <td>T</td>\n      <td>3</td>\n      <td>Snow</td>\n      <td>327</td>\n    </tr>\n    <tr>\n      <th>24</th>\n      <td>1/25/2016</td>\n      <td>34</td>\n      <td>18</td>\n      <td>54</td>\n      <td>30.25</td>\n      <td>10</td>\n      <td>3.0</td>\n      <td>0</td>\n      <td>2</td>\n      <td>NaN</td>\n      <td>286</td>\n    </tr>\n    <tr>\n      <th>25</th>\n      <td>1/26/2016</td>\n      <td>43</td>\n      <td>29</td>\n      <td>56</td>\n      <td>30.03</td>\n      <td>10</td>\n      <td>7.0</td>\n      <td>0</td>\n      <td>2</td>\n      <td>NaN</td>\n      <td>244</td>\n    </tr>\n    <tr>\n      <th>26</th>\n      <td>1/27/2016</td>\n      <td>41</td>\n      <td>22</td>\n      <td>45</td>\n      <td>30.03</td>\n      <td>10</td>\n      <td>7.0</td>\n      <td>T</td>\n      <td>3</td>\n      <td>Rain</td>\n      <td>311</td>\n    </tr>\n    <tr>\n      <th>27</th>\n      <td>1/28/2016</td>\n      <td>37</td>\n      <td>20</td>\n      <td>51</td>\n      <td>29.90</td>\n      <td>10</td>\n      <td>5.0</td>\n      <td>0</td>\n      <td>1</td>\n      <td>NaN</td>\n      <td>234</td>\n    </tr>\n    <tr>\n      <th>28</th>\n      <td>1/29/2016</td>\n      <td>36</td>\n      <td>21</td>\n      <td>50</td>\n      <td>29.58</td>\n      <td>10</td>\n      <td>8.0</td>\n      <td>0</td>\n      <td>4</td>\n      <td>NaN</td>\n      <td>298</td>\n    </tr>\n    <tr>\n      <th>29</th>\n      <td>1/30/2016</td>\n      <td>34</td>\n      <td>16</td>\n      <td>46</td>\n      <td>30.01</td>\n      <td>10</td>\n      <td>7.0</td>\n      <td>0</td>\n      <td>0</td>\n      <td>NaN</td>\n      <td>257</td>\n    </tr>\n    <tr>\n      <th>30</th>\n      <td>1/31/2016</td>\n      <td>46</td>\n      <td>28</td>\n      <td>52</td>\n      <td>29.90</td>\n      <td>10</td>\n      <td>5.0</td>\n      <td>0</td>\n      <td>0</td>\n      <td>NaN</td>\n      <td>241</td>\n    </tr>\n  </tbody>\n</table>\n</div>"
     },
     "execution_count": 4,
     "metadata": {},
     "output_type": "execute_result"
    }
   ],
   "source": [
    "df"
   ],
   "metadata": {
    "collapsed": false,
    "ExecuteTime": {
     "end_time": "2024-01-02T06:49:43.782361200Z",
     "start_time": "2024-01-02T06:49:43.741473600Z"
    }
   }
  },
  {
   "cell_type": "code",
   "execution_count": 3,
   "outputs": [
    {
     "data": {
      "text/plain": "Index(['EST', 'Temperature', 'DewPoint', 'Humidity', 'Sea Level PressureIn',\n       'VisibilityMiles', 'WindSpeedMPH', 'PrecipitationIn', 'CloudCover',\n       'Events', 'WindDirDegrees'],\n      dtype='object')"
     },
     "execution_count": 3,
     "metadata": {},
     "output_type": "execute_result"
    }
   ],
   "source": [
    "df.columns"
   ],
   "metadata": {
    "collapsed": false,
    "ExecuteTime": {
     "end_time": "2024-01-02T06:26:38.089601300Z",
     "start_time": "2024-01-02T06:26:38.070480800Z"
    }
   }
  },
  {
   "cell_type": "markdown",
   "source": [
    "Max Temperature"
   ],
   "metadata": {
    "collapsed": false
   }
  },
  {
   "cell_type": "code",
   "execution_count": 5,
   "outputs": [
    {
     "data": {
      "text/plain": "50"
     },
     "execution_count": 5,
     "metadata": {},
     "output_type": "execute_result"
    }
   ],
   "source": [
    "df['Temperature'].max()"
   ],
   "metadata": {
    "collapsed": false,
    "ExecuteTime": {
     "end_time": "2024-01-02T06:54:26.743863300Z",
     "start_time": "2024-01-02T06:54:26.739874300Z"
    }
   }
  },
  {
   "cell_type": "code",
   "execution_count": 6,
   "outputs": [
    {
     "data": {
      "text/plain": "8      1/9/2016\n9     1/10/2016\n15    1/16/2016\n26    1/27/2016\nName: EST, dtype: object"
     },
     "execution_count": 6,
     "metadata": {},
     "output_type": "execute_result"
    }
   ],
   "source": [
    "df['EST'][df['Events'] == 'Rain']"
   ],
   "metadata": {
    "collapsed": false,
    "ExecuteTime": {
     "end_time": "2024-01-02T06:55:20.210983800Z",
     "start_time": "2024-01-02T06:55:20.196993200Z"
    }
   }
  },
  {
   "cell_type": "code",
   "execution_count": 8,
   "outputs": [
    {
     "data": {
      "text/plain": "6.225806451612903"
     },
     "execution_count": 8,
     "metadata": {},
     "output_type": "execute_result"
    }
   ],
   "source": [
    "# Filling null values\n",
    "df.fillna(0, inplace=True)\n",
    "df['WindSpeedMPH'].mean()"
   ],
   "metadata": {
    "collapsed": false,
    "ExecuteTime": {
     "end_time": "2024-01-02T06:58:50.259248400Z",
     "start_time": "2024-01-02T06:58:50.234261600Z"
    }
   }
  },
  {
   "cell_type": "code",
   "execution_count": null,
   "outputs": [],
   "source": [],
   "metadata": {
    "collapsed": false
   }
  }
 ],
 "metadata": {
  "kernelspec": {
   "display_name": "Python 3",
   "language": "python",
   "name": "python3"
  },
  "language_info": {
   "codemirror_mode": {
    "name": "ipython",
    "version": 2
   },
   "file_extension": ".py",
   "mimetype": "text/x-python",
   "name": "python",
   "nbconvert_exporter": "python",
   "pygments_lexer": "ipython2",
   "version": "2.7.6"
  }
 },
 "nbformat": 4,
 "nbformat_minor": 0
}
